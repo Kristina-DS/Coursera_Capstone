{
 "cells": [
  {
   "cell_type": "markdown",
   "metadata": {
    "collapsed": true
   },
   "source": [
    "# Capstone Project - The Battle of Neighboroughoods - Part 1"
   ]
  },
  {
   "cell_type": "markdown",
   "metadata": {},
   "source": [
    "### INTRODUCTION"
   ]
  },
  {
   "cell_type": "markdown",
   "metadata": {},
   "source": [
    "Situated on one of the world's largest natural harbors, New York City, is the most populous city in the United States. Composed of five boroughs, Brooklyn, Queens, Manhattan, the Bronx, and Staten Island, each of which is a county of the State of New York. As many as 800 languages are spoken in New York, making it the most linguistically diverse city in the world. New York is home to more than 3.2 million residents born outside the United States. The city is renowned for it's diversity, also reflected in food and beverage industry, with cousines from France, Italy, India, Hungary, China and other parts of the world. \n",
    "\n",
    "A business enterpreneur would like to expand his restaurant business to the United States and requested data that would help him make an informed decision on the best location in New York city to open a unique Indian retsaurant. \n",
    "\n",
    "\n",
    "\n"
   ]
  },
  {
   "cell_type": "markdown",
   "metadata": {},
   "source": [
    "### APPROACH"
   ]
  },
  {
   "cell_type": "markdown",
   "metadata": {},
   "source": [
    "### To answer the above task, we will need answers to the following questions:\n",
    "\n",
    "Q1 - List/visualise all major parts of the city of New York with restaurants serving Indian cousine. \n",
    "\n",
    "Q2 - Which areas lack restaurants serving Indian cousine?\n",
    "\n",
    "Q3 - Which areas have potential Indian cousine market?\n",
    "\n",
    "Q4 - What is the best location to open a new unique Indian cousine restaurant?"
   ]
  }
 ],
 "metadata": {
  "kernelspec": {
   "display_name": "Python 3.7",
   "language": "python",
   "name": "python3"
  },
  "language_info": {
   "codemirror_mode": {
    "name": "ipython",
    "version": 3
   },
   "file_extension": ".py",
   "mimetype": "text/x-python",
   "name": "python",
   "nbconvert_exporter": "python",
   "pygments_lexer": "ipython3",
   "version": "3.7.9"
  }
 },
 "nbformat": 4,
 "nbformat_minor": 1
}
