{
 "cells": [
  {
   "cell_type": "markdown",
   "metadata": {
    "collapsed": true
   },
   "source": [
    "# Capstone Project - The Battle of Neighbourhoods - Part 1 - Data"
   ]
  },
  {
   "cell_type": "markdown",
   "metadata": {},
   "source": [
    "## Data "
   ]
  },
  {
   "cell_type": "markdown",
   "metadata": {},
   "source": [
    "To answer following 4 questions set in the task:\n",
    "\n",
    "Q1 - List/visualise all major parts of the city of New York with restaurants serving Indian cousine.\n",
    "\n",
    "Q2 - Which areas lack restaurants serving Indian cousine?\n",
    "\n",
    "Q3 - Which areas have potential Indian cousine market?\n",
    "\n",
    "Q4 - What is the best location to open a new unique Indian cousine restaurant?\n",
    "\n",
    "Data required:\n",
    "\n",
    "1. To explore neighborouhoods in New York city:\n",
    "https://cocl.us/new_york_dataset\n",
    " \n",
    "2. To find Indian restaurants in each neighbourhood:\n",
    "Foursquare API\n",
    "\n",
    "3. To visualise New York boroughs boundaries (Geospace data):\n",
    "https://data.cityofnewyork.us/City-Government/Borough-Boundaries/tqmj-j8zm\n",
    "\n"
   ]
  }
 ],
 "metadata": {
  "kernelspec": {
   "display_name": "Python 3.7",
   "language": "python",
   "name": "python3"
  },
  "language_info": {
   "codemirror_mode": {
    "name": "ipython",
    "version": 3
   },
   "file_extension": ".py",
   "mimetype": "text/x-python",
   "name": "python",
   "nbconvert_exporter": "python",
   "pygments_lexer": "ipython3",
   "version": "3.7.9"
  }
 },
 "nbformat": 4,
 "nbformat_minor": 1
}
